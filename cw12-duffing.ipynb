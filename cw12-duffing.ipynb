{
 "cells": [
  {
   "cell_type": "markdown",
   "metadata": {
    "collapsed": false
   },
   "source": [
    "# Sombrero\n",
    "\n",
    "# Gabriella_Nutt\n",
    "# Nov 27 2018\n",
    "\n",
    "## ODES"
   ]
  },
  {
   "cell_type": "code",
   "execution_count": 0,
   "metadata": {
    "collapsed": false
   },
   "outputs": [
   ],
   "source": [
    "import numpy as np\n",
    "import sympy as sp\n",
    "import matplotlib.pyplot as plt\n",
    "import sombrero as sb\n",
    "\n",
    "\n",
    "dx = sb.dxdt(x,y,t)\n",
    "dy = sb.dydt(x,y,t,F,v,w)\n",
    "\n",
    "plt.plot(t,x,color=\"k\",label='r4 vs x') # x is the 0 row of r4\n",
    "plt.plot(t,r4[1,:],color=\"blue\",label='r4 vs y') # y is the 1st row of r4\n",
    "plt.plot(t,sin,'r--',color=\"orange\",label='-sinx')\n",
    "plt.legend(loc='upper left') #puts legend in upper left corner\n",
    "plt.xlabel('X')\n",
    "plt.ylabel('Y')\n",
    "plt.title('Plot of Duffing Oscillator')\n",
    "plt.ylim((-5,5))\n",
    "plt.show()"
   ]
  }
 ],
 "metadata": {
  "kernelspec": {
   "display_name": "Python 3 (Anaconda 5)",
   "language": "python",
   "name": "anaconda5"
  },
  "language_info": {
   "codemirror_mode": {
    "name": "ipython",
    "version": 3
   },
   "file_extension": ".py",
   "mimetype": "text/x-python",
   "name": "python",
   "nbconvert_exporter": "python",
   "pygments_lexer": "ipython3",
   "version": "3.6.5"
  }
 },
 "nbformat": 4,
 "nbformat_minor": 0
}